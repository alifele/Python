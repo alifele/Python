{
 "cells": [
  {
   "cell_type": "code",
   "execution_count": 28,
   "metadata": {},
   "outputs": [],
   "source": [
    "import numpy as np\n",
    "import matplotlib.pyplot as plt"
   ]
  },
  {
   "cell_type": "code",
   "execution_count": 16,
   "metadata": {},
   "outputs": [],
   "source": [
    "class XOR:\n",
    "    def __init__(self, x,y):\n",
    "        self.out = x ^ y\n",
    "    \n",
    "class AND:\n",
    "    def __init__(self, x,y):\n",
    "        self.out = x * y \n",
    "    \n",
    "class OR:\n",
    "    def __init__(self, x,y):\n",
    "        self.out = x or y\n",
    "\n",
    "class buffer:\n",
    "    def __init__(self, x):\n",
    "        self.out = x"
   ]
  },
  {
   "cell_type": "code",
   "execution_count": 17,
   "metadata": {},
   "outputs": [],
   "source": [
    "a = 1\n",
    "b = 1\n",
    "c = 0\n",
    "\n",
    "xor1 = XOR(a,b)\n",
    "xor2 = XOR(xor1.out,c)\n",
    "s = xor2.out\n",
    "\n",
    "and1 = AND(a,b)\n",
    "and2 = AND(c, xor1.out)\n",
    "\n",
    "c_out = OR(and1.out, and2.out).out"
   ]
  },
  {
   "cell_type": "code",
   "execution_count": 19,
   "metadata": {},
   "outputs": [
    {
     "data": {
      "text/plain": [
       "(1, 0)"
      ]
     },
     "execution_count": 19,
     "metadata": {},
     "output_type": "execute_result"
    }
   ],
   "source": [
    "c_out, s"
   ]
  },
  {
   "cell_type": "code",
   "execution_count": null,
   "metadata": {},
   "outputs": [],
   "source": []
  },
  {
   "cell_type": "code",
   "execution_count": 49,
   "metadata": {},
   "outputs": [],
   "source": []
  },
  {
   "cell_type": "code",
   "execution_count": 57,
   "metadata": {},
   "outputs": [],
   "source": [
    "def clock_gen(t_total=10):\n",
    "    t = []\n",
    "    t.append(1)\n",
    "    for i in range(2,t_total+1):\n",
    "        t = t +  [i,i]\n",
    "    clk = []\n",
    "    clk.append(0)\n",
    "    for i in range(2, t_total+1):\n",
    "        clk = clk + [[0,1],[1,0]][i%2]\n",
    "\n",
    "    return t, clk"
   ]
  },
  {
   "cell_type": "code",
   "execution_count": 58,
   "metadata": {},
   "outputs": [],
   "source": [
    "t, clk = clock_gen(10)"
   ]
  },
  {
   "cell_type": "code",
   "execution_count": null,
   "metadata": {},
   "outputs": [],
   "source": []
  },
  {
   "cell_type": "code",
   "execution_count": null,
   "metadata": {},
   "outputs": [],
   "source": []
  },
  {
   "cell_type": "code",
   "execution_count": 66,
   "metadata": {},
   "outputs": [
    {
     "data": {
      "image/png": "[encoded data removed]",
      "text/plain": [
       "<Figure size 432x288 with 1 Axes>"
      ]
     },
     "metadata": {
      "needs_background": "light"
     },
     "output_type": "display_data"
    }
   ],
   "source": [
    "plt.plot(t,clk)\n",
    "plt.plot(t,np.array(clk)+1.5)\n",
    "\n",
    "plt.axis('equal')\n",
    "plt.grid()\n"
   ]
  },
  {
   "cell_type": "markdown",
   "metadata": {},
   "source": [
    "# Other Approach"
   ]
  },
  {
   "cell_type": "code",
   "execution_count": 100,
   "metadata": {},
   "outputs": [],
   "source": []
  },
  {
   "cell_type": "code",
   "execution_count": 104,
   "metadata": {},
   "outputs": [
    {
     "data": {
      "text/plain": [
       "[0, 0]"
      ]
     },
     "execution_count": 104,
     "metadata": {},
     "output_type": "execute_result"
    }
   ],
   "source": [
    "[0] * edge[0]"
   ]
  },
  {
   "cell_type": "code",
   "execution_count": 234,
   "metadata": {},
   "outputs": [],
   "source": [
    "class Signal:\n",
    "    def __init__(self, edge, first_edge, t_end):\n",
    "        self.rise = [0,1]\n",
    "        self.fall = [1,0]\n",
    "        self.trans = [self.rise, self.fall]\n",
    "        \n",
    "        if first_edge == 'rise':\n",
    "            self.initial_level = 0\n",
    "        else:\n",
    "            self.initial_level = 1\n",
    "            \n",
    "        self.edge = edge\n",
    "        self.t_end = t_end\n",
    "        self.first_edge = first_edge\n",
    "        \n",
    "    def generate(self):\n",
    "        \n",
    "        self.t = [1]*2*len(self.edge)\n",
    "        self.t[0:-1:2] = self.edge\n",
    "        self.t[1::2] = self.edge\n",
    "\n",
    "        self.clk = []\n",
    "\n",
    "        if self.first_edge == 'rise':\n",
    "            init = 0\n",
    "        else:\n",
    "            init = 1\n",
    "\n",
    "        for i in range(len(self.edge)):\n",
    "            self.clk += self.trans[(i+init)%2]\n",
    "            \n",
    "        if len(edge)%2 == 0 :\n",
    "            level_end = self.initial_level\n",
    "            \n",
    "        else:\n",
    "            level_end = int( not(self.initial_level))\n",
    "            \n",
    "\n",
    "        return np.array([0]*self.edge[0] + self.t + [self.t_end]), np.array([self.initial_level]*edge[0] + self.clk + [level_end])\n",
    "        \n",
    "    def get_val(self,T_list):\n",
    "        result = []\n",
    "        for T in T_list:\n",
    "            edge = np.array(self.edge)\n",
    "            if np.argmin(T > edge) % 2 ==1:\n",
    "                result.append (int(not(self.initial_level)))\n",
    "            else:\n",
    "                result.append(self.initial_level)\n",
    "                \n",
    "        return np.array(result)"
   ]
  },
  {
   "cell_type": "code",
   "execution_count": 235,
   "metadata": {},
   "outputs": [],
   "source": [
    "edge = [2,3,3.3,3.4,4,6,7,10,12,14]\n",
    "t_end = 15\n",
    "first_edge = 'rise'\n",
    "a1 = Signal(edge, first_edge, t_end)\n",
    "result1 = a1.generate()"
   ]
  },
  {
   "cell_type": "code",
   "execution_count": 236,
   "metadata": {},
   "outputs": [],
   "source": [
    "edge = [1,3,4,5,8,12]\n",
    "t_end = 15\n",
    "first_edge = 'rise'\n",
    "a2 = Signal(edge, first_edge, t_end)\n",
    "result2 = a2.generate()"
   ]
  },
  {
   "cell_type": "code",
   "execution_count": 267,
   "metadata": {},
   "outputs": [],
   "source": [
    "t_span = np.arange(0,15,0.01)\n",
    "result = a1.get_val(t_span) * a2.get_val(t_span)"
   ]
  },
  {
   "cell_type": "code",
   "execution_count": 268,
   "metadata": {},
   "outputs": [
    {
     "data": {
      "text/plain": [
       "([], <a list of 0 Text yticklabel objects>)"
      ]
     },
     "execution_count": 268,
     "metadata": {},
     "output_type": "execute_result"
    },
    {
     "data": {
      "image/png": "[encoded data removed]",
      "text/plain": [
       "<Figure size 864x288 with 1 Axes>"
      ]
     },
     "metadata": {
      "needs_background": "light"
     },
     "output_type": "display_data"
    }
   ],
   "source": [
    "plt.figure(figsize=(12,4))\n",
    "plt.plot(*result1, 'b', label='a1')\n",
    "plt.plot(result2[0], result2[1]+1.5,'r', label='a2')\n",
    "plt.plot(t_span, result + 3 ,'k', label='a1 & a2')\n",
    "plt.axis('equal')\n",
    "plt.grid()\n",
    "plt.legend()\n",
    "plt.yticks([])"
   ]
  },
  {
   "cell_type": "code",
   "execution_count": null,
   "metadata": {},
   "outputs": [],
   "source": []
  },
  {
   "cell_type": "code",
   "execution_count": 262,
   "metadata": {},
   "outputs": [],
   "source": []
  },
  {
   "cell_type": "code",
   "execution_count": null,
   "metadata": {},
   "outputs": [],
   "source": []
  },
  {
   "cell_type": "code",
   "execution_count": null,
   "metadata": {},
   "outputs": [],
   "source": []
  }
 ],
 "metadata": {
  "kernelspec": {
   "display_name": "Python 3",
   "language": "python",
   "name": "python3"
  },
  "language_info": {
   "codemirror_mode": {
    "name": "ipython",
    "version": 3
   },
   "file_extension": ".py",
   "mimetype": "text/x-python",
   "name": "python",
   "nbconvert_exporter": "python",
   "pygments_lexer": "ipython3",
   "version": "3.7.6"
  }
 },
 "nbformat": 4,
 "nbformat_minor": 2
}
