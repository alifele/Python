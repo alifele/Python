{
 "cells": [
  {
   "cell_type": "code",
   "execution_count": 4,
   "metadata": {},
   "outputs": [],
   "source": [
    "import numpy as np\n",
    "import matplotlib.pyplot as plt"
   ]
  },
  {
   "cell_type": "code",
   "execution_count": null,
   "metadata": {},
   "outputs": [],
   "source": []
  },
  {
   "cell_type": "code",
   "execution_count": null,
   "metadata": {},
   "outputs": [],
   "source": []
  },
  {
   "cell_type": "code",
   "execution_count": null,
   "metadata": {},
   "outputs": [],
   "source": []
  },
  {
   "cell_type": "code",
   "execution_count": null,
   "metadata": {},
   "outputs": [],
   "source": []
  },
  {
   "cell_type": "code",
   "execution_count": 310,
   "metadata": {},
   "outputs": [],
   "source": [
    "class Chess:\n",
    "    def __init__(self):\n",
    "        self.mat = np.zeros((8,8))\n",
    "    \n",
    "    def add_elem(self,r,c):\n",
    "        self.add_col_trace(r,c)\n",
    "        self.add_row_trace(r,c)\n",
    "        self.add_diag_trace(r,c)\n",
    "        self.mat[r,c]=2\n",
    "\n",
    "        \n",
    "        \n",
    "    def add_col_trace(self,r,c):\n",
    "        self.mat[:r,c]=1\n",
    "        self.mat[r+1:,c]=1\n",
    "    \n",
    "    def add_row_trace(self,r,c):\n",
    "        self.mat[r,c+1:]=1\n",
    "        self.mat[r,:c]=1\n",
    "        \n",
    "    def add_diag_trace(self,r,c):\n",
    "        NL = np.min([7-r,c])\n",
    "        SR = np.min([r,7-c])\n",
    "        NR = np.min([7-r, 7-c])\n",
    "        SL = np.min([r,c])\n",
    "        length_box1 = NL+SR+1\n",
    "        length_box2 = NR + SL + 1\n",
    "        for i in range(length_box2):\n",
    "            self.mat[r-SL+i, c-SL + i]=1\n",
    "        for i in range(length_box1):\n",
    "            self.mat[r+NL-i, c-NL+i]=1\n",
    "            \n",
    "    def show(self):\n",
    "        plt.pcolor(self.mat, lw=1, ec='k', cmap='jet')\n",
    "        plt.axis('equal')\n",
    "        \n",
    "        \n",
    "    "
   ]
  },
  {
   "cell_type": "code",
   "execution_count": 325,
   "metadata": {},
   "outputs": [
    {
     "data": {
      "image/png": "[encoded data removed]",
      "text/plain": [
       "<Figure size 432x288 with 1 Axes>"
      ]
     },
     "metadata": {
      "needs_background": "light"
     },
     "output_type": "display_data"
    }
   ],
   "source": [
    "chess = Chess()\n",
    "chess.add_elem(0,0)\n",
    "chess.add_elem(1,2)\n",
    "chess.add_elem(2,4)\n",
    "chess.add_elem(3,6)\n",
    "chess.add_elem(6,5)\n",
    "chess.add_elem(6,5)\n",
    "chess.add_elem(4,1)\n",
    "chess.add_elem(4,1)\n",
    "\n",
    "\n",
    "chess.show()"
   ]
  },
  {
   "cell_type": "code",
   "execution_count": null,
   "metadata": {},
   "outputs": [],
   "source": []
  },
  {
   "cell_type": "code",
   "execution_count": null,
   "metadata": {},
   "outputs": [],
   "source": []
  },
  {
   "cell_type": "code",
   "execution_count": null,
   "metadata": {},
   "outputs": [],
   "source": []
  },
  {
   "cell_type": "code",
   "execution_count": 251,
   "metadata": {},
   "outputs": [],
   "source": []
  },
  {
   "cell_type": "code",
   "execution_count": 252,
   "metadata": {},
   "outputs": [],
   "source": []
  },
  {
   "cell_type": "code",
   "execution_count": 253,
   "metadata": {},
   "outputs": [],
   "source": []
  },
  {
   "cell_type": "code",
   "execution_count": null,
   "metadata": {},
   "outputs": [],
   "source": []
  },
  {
   "cell_type": "code",
   "execution_count": null,
   "metadata": {},
   "outputs": [],
   "source": []
  },
  {
   "cell_type": "code",
   "execution_count": null,
   "metadata": {},
   "outputs": [],
   "source": []
  },
  {
   "cell_type": "code",
   "execution_count": 257,
   "metadata": {},
   "outputs": [],
   "source": []
  },
  {
   "cell_type": "code",
   "execution_count": 262,
   "metadata": {},
   "outputs": [],
   "source": []
  },
  {
   "cell_type": "code",
   "execution_count": null,
   "metadata": {},
   "outputs": [],
   "source": []
  },
  {
   "cell_type": "code",
   "execution_count": null,
   "metadata": {},
   "outputs": [],
   "source": []
  }
 ],
 "metadata": {
  "kernelspec": {
   "display_name": "Python 3",
   "language": "python",
   "name": "python3"
  },
  "language_info": {
   "codemirror_mode": {
    "name": "ipython",
    "version": 3
   },
   "file_extension": ".py",
   "mimetype": "text/x-python",
   "name": "python",
   "nbconvert_exporter": "python",
   "pygments_lexer": "ipython3",
   "version": "3.7.6"
  }
 },
 "nbformat": 4,
 "nbformat_minor": 2
}
