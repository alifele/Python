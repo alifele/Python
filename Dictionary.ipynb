{
  "nbformat": 4,
  "nbformat_minor": 0,
  "metadata": {
    "colab": {
      "name": "Dictionary.ipynb",
      "version": "0.3.2",
      "provenance": [],
      "include_colab_link": true
    },
    "kernelspec": {
      "name": "python3",
      "display_name": "Python 3"
    }
  },
  "cells": [
    {
      "cell_type": "markdown",
      "metadata": {
        "id": "view-in-github",
        "colab_type": "text"
      },
      "source": [
        "<a href=\"https://colab.research.google.com/github/alifele/Python/blob/master/Dictionary.ipynb\" target=\"_parent\"><img src=\"https://colab.research.google.com/assets/colab-badge.svg\" alt=\"Open In Colab\"/></a>"
      ]
    },
    {
      "metadata": {
        "id": "SlJz_3ofMvte",
        "colab_type": "text"
      },
      "cell_type": "markdown",
      "source": [
        "#Dictionary\n",
        "\n",
        "consider the following table\n",
        "\n",
        "|Key ||Values|\n",
        "|----||-----|\n",
        "|user_id||209|\n",
        "|message||'Hi there'|\n",
        "|Language||English|\n",
        "|date_time||'+3.5 Geneva'|\n",
        "|Location||(12.432, -11.332)|\n",
        "\n",
        "\n",
        "\n",
        "suppose that we want to access the *Values* by its *Keys*.that is exactly when we use dictionaries.\n"
      ]
    },
    {
      "metadata": {
        "id": "D7972g4DOhNZ",
        "colab_type": "text"
      },
      "cell_type": "markdown",
      "source": [
        "A very rudientary way to define a dictionary is by the following syntax"
      ]
    },
    {
      "metadata": {
        "id": "ulk58UtXMo7X",
        "colab_type": "code",
        "colab": {}
      },
      "cell_type": "code",
      "source": [
        "post = {'user_id':209, 'message':'ABC', 'Language':'English', 'Date_time':'+3.5 Geneva', 'Location':'(12.432,-11.332)'}"
      ],
      "execution_count": 0,
      "outputs": []
    },
    {
      "metadata": {
        "id": "TrxA2hhNOvgs",
        "colab_type": "text"
      },
      "cell_type": "markdown",
      "source": [
        "And now to access the Values by its relevant keys we can write:"
      ]
    },
    {
      "metadata": {
        "id": "gQkULWdbOgbV",
        "colab_type": "code",
        "colab": {
          "base_uri": "https://localhost:8080/",
          "height": 34
        },
        "outputId": "e91c8db2-74e6-4ddc-9f10-5ad147c7aabe"
      },
      "cell_type": "code",
      "source": [
        "print(post['user_id'])"
      ],
      "execution_count": 11,
      "outputs": [
        {
          "output_type": "stream",
          "text": [
            "209\n"
          ],
          "name": "stdout"
        }
      ]
    },
    {
      "metadata": {
        "id": "0wqW8j_cO_Sw",
        "colab_type": "text"
      },
      "cell_type": "markdown",
      "source": [
        "#Another Way :  using ```dict``` function\n",
        "We can alos construct a dictionary using ```dict``` function :"
      ]
    },
    {
      "metadata": {
        "id": "AiZ3E8tAO9XK",
        "colab_type": "code",
        "colab": {}
      },
      "cell_type": "code",
      "source": [
        "post2 = dict (message = 'hi there', Language = 'Farsi', Date_time = '+2.5 THR')"
      ],
      "execution_count": 0,
      "outputs": []
    },
    {
      "metadata": {
        "id": "I6ow8ipzPfEx",
        "colab_type": "code",
        "colab": {
          "base_uri": "https://localhost:8080/",
          "height": 34
        },
        "outputId": "5fc7a2e8-567a-4c9d-96e8-aadd0f960da0"
      },
      "cell_type": "code",
      "source": [
        "post2['Language']"
      ],
      "execution_count": 13,
      "outputs": [
        {
          "output_type": "execute_result",
          "data": {
            "text/plain": [
              "'Farsi'"
            ]
          },
          "metadata": {
            "tags": []
          },
          "execution_count": 13
        }
      ]
    },
    {
      "metadata": {
        "id": "GzoD5JjlPm-e",
        "colab_type": "text"
      },
      "cell_type": "markdown",
      "source": [
        "Note : \n",
        "in constructing dictionary by the recent way we use ' = ' instead of ' : ' to seperate the keys and values.\n",
        "And also note that we DONOT put the key in quotation mark."
      ]
    },
    {
      "metadata": {
        "id": "AfN1023OQyJC",
        "colab_type": "text"
      },
      "cell_type": "markdown",
      "source": [
        "#Some Methods of dictionaries"
      ]
    },
    {
      "metadata": {
        "id": "7StlfYPPQ3Bo",
        "colab_type": "text"
      },
      "cell_type": "markdown",
      "source": [
        "#```dict.get(key,propose)```\n",
        "if we have the  requested key in our dictionary, will return its value. Otherwise it will return *propose*"
      ]
    },
    {
      "metadata": {
        "id": "ijtBRHm_Phnw",
        "colab_type": "code",
        "colab": {
          "base_uri": "https://localhost:8080/",
          "height": 51
        },
        "outputId": "f800d171-9d17-41ca-9b74-aa6d3b052597"
      },
      "cell_type": "code",
      "source": [
        "galaxy = post.get('Galaxy','Milky Way')\n",
        "print(galaxy)\n",
        "loc = post.get('Location','Not Entered')\n",
        "print(loc)"
      ],
      "execution_count": 14,
      "outputs": [
        {
          "output_type": "stream",
          "text": [
            "Milky Way\n",
            "(12.432,-11.332)\n"
          ],
          "name": "stdout"
        }
      ]
    },
    {
      "metadata": {
        "id": "EpclB2j3SClp",
        "colab_type": "text"
      },
      "cell_type": "markdown",
      "source": [
        "#Iteration on dictionary\n",
        "```for keys in dict```    \n",
        "will iterate the ```keys``` on the *keys* of dictionary"
      ]
    },
    {
      "metadata": {
        "id": "cwRuGqdIR0To",
        "colab_type": "code",
        "colab": {
          "base_uri": "https://localhost:8080/",
          "height": 102
        },
        "outputId": "0873a9a1-c27b-4a76-ee2b-0ad3fe9c021e"
      },
      "cell_type": "code",
      "source": [
        "for keys in post:\n",
        "  print(keys)"
      ],
      "execution_count": 16,
      "outputs": [
        {
          "output_type": "stream",
          "text": [
            "user_id\n",
            "message\n",
            "Language\n",
            "Date_time\n",
            "Location\n"
          ],
          "name": "stdout"
        }
      ]
    },
    {
      "metadata": {
        "id": "97hQULrdXpXM",
        "colab_type": "text"
      },
      "cell_type": "markdown",
      "source": [
        "#  ```dict.items() ```   \n",
        "\n",
        "#```dict.keys()```"
      ]
    },
    {
      "metadata": {
        "id": "aFGKYy2VSbZi",
        "colab_type": "code",
        "colab": {
          "base_uri": "https://localhost:8080/",
          "height": 51
        },
        "outputId": "94e376fa-e2dc-48f5-cdac-08dba8661d19"
      },
      "cell_type": "code",
      "source": [
        "\n",
        "print((post.items()))\n",
        "print(post.keys())"
      ],
      "execution_count": 22,
      "outputs": [
        {
          "output_type": "stream",
          "text": [
            "[('user_id', 209), ('message', 'ABC'), ('Language', 'English'), ('Date_time', '+3.5 Geneva'), ('Location', '(12.432,-11.332)')]\n",
            "dict_keys(['user_id', 'message', 'Language', 'Date_time', 'Location'])\n"
          ],
          "name": "stdout"
        }
      ]
    },
    {
      "metadata": {
        "id": "cbaNzalVXW_4",
        "colab_type": "code",
        "colab": {}
      },
      "cell_type": "code",
      "source": [
        ""
      ],
      "execution_count": 0,
      "outputs": []
    }
  ]
}