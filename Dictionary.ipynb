{
  "nbformat": 4,
  "nbformat_minor": 0,
  "metadata": {
    "colab": {
      "name": "Dictionary.ipynb",
      "version": "0.3.2",
      "provenance": [],
      "include_colab_link": true
    },
    "kernelspec": {
      "name": "python3",
      "display_name": "Python 3"
    }
  },
  "cells": [
    {
      "cell_type": "markdown",
      "metadata": {
        "id": "view-in-github",
        "colab_type": "text"
      },
      "source": [
        "<a href=\"https://colab.research.google.com/github/alifele/Python/blob/master/Dictionary.ipynb\" target=\"_parent\"><img src=\"https://colab.research.google.com/assets/colab-badge.svg\" alt=\"Open In Colab\"/></a>"
      ]
    },
    {
      "metadata": {
        "id": "SlJz_3ofMvte",
        "colab_type": "text"
      },
      "cell_type": "markdown",
      "source": [
        "#Dictionary\n",
        "\n",
        "consider the following table\n",
        "\n",
        "|Key ||Values|\n",
        "|----||-----|\n",
        "|user_id||209|\n",
        "|message||'Hi there'|\n",
        "|Language||English|\n",
        "|date_time||'+3.5 Geneva'|\n",
        "|Location||(12.432, -11.332)|\n",
        "\n",
        "\n",
        "\n",
        "suppose that we want to access the *Values* by its *Keys*.that is exactly when we use dictionaries.\n"
      ]
    },
    {
      "metadata": {
        "id": "D7972g4DOhNZ",
        "colab_type": "text"
      },
      "cell_type": "markdown",
      "source": [
        "A very rudientary way to define a dictionary is by the following syntax"
      ]
    },
    {
      "metadata": {
        "id": "ulk58UtXMo7X",
        "colab_type": "code",
        "colab": {}
      },
      "cell_type": "code",
      "source": [
        "post = {'user_id':209, 'message':'ABC', 'Language':'English', 'Date_time':'+3.5 Geneva', 'Location':'(12.432,-11.332)'}"
      ],
      "execution_count": 0,
      "outputs": []
    },
    {
      "metadata": {
        "id": "TrxA2hhNOvgs",
        "colab_type": "text"
      },
      "cell_type": "markdown",
      "source": [
        "And now to access the Values by its relevant keys we can write:"
      ]
    },
    {
      "metadata": {
        "id": "gQkULWdbOgbV",
        "colab_type": "code",
        "colab": {
          "base_uri": "https://localhost:8080/",
          "height": 34
        },
        "outputId": "37f643d6-9ace-4b35-ca3b-499812b512c8"
      },
      "cell_type": "code",
      "source": [
        "print(post['user_id'])"
      ],
      "execution_count": 2,
      "outputs": [
        {
          "output_type": "stream",
          "text": [
            "209\n"
          ],
          "name": "stdout"
        }
      ]
    },
    {
      "metadata": {
        "id": "0wqW8j_cO_Sw",
        "colab_type": "text"
      },
      "cell_type": "markdown",
      "source": [
        "We can alos construct a dictionary using ```dict``` function :"
      ]
    },
    {
      "metadata": {
        "id": "AiZ3E8tAO9XK",
        "colab_type": "code",
        "colab": {}
      },
      "cell_type": "code",
      "source": [
        "post2 = dict (message = 'hi there', Language = 'Farsi', Date_time = '+2.5 THR')"
      ],
      "execution_count": 0,
      "outputs": []
    },
    {
      "metadata": {
        "id": "I6ow8ipzPfEx",
        "colab_type": "code",
        "colab": {
          "base_uri": "https://localhost:8080/",
          "height": 34
        },
        "outputId": "9c114c75-82ab-4447-df24-39d0f9e3bc13"
      },
      "cell_type": "code",
      "source": [
        "post2['Language']"
      ],
      "execution_count": 4,
      "outputs": [
        {
          "output_type": "execute_result",
          "data": {
            "text/plain": [
              "'Farsi'"
            ]
          },
          "metadata": {
            "tags": []
          },
          "execution_count": 4
        }
      ]
    },
    {
      "metadata": {
        "id": "GzoD5JjlPm-e",
        "colab_type": "text"
      },
      "cell_type": "markdown",
      "source": [
        "Note : \n",
        "in constructing dictionary by the recent way we use ' = ' instead of ' : ' to seperate the keys and values.\n",
        "And also note that we DONOT put the key in quotation mark."
      ]
    },
    {
      "metadata": {
        "id": "ijtBRHm_Phnw",
        "colab_type": "code",
        "colab": {}
      },
      "cell_type": "code",
      "source": [
        ""
      ],
      "execution_count": 0,
      "outputs": []
    }
  ]
}